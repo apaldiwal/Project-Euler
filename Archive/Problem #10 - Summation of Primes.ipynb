{
 "cells": [
  {
   "cell_type": "code",
   "execution_count": null,
   "metadata": {},
   "outputs": [],
   "source": []
  },
  {
   "cell_type": "markdown",
   "metadata": {},
   "source": [
    "#### Libraries"
   ]
  },
  {
   "cell_type": "code",
   "execution_count": 4,
   "metadata": {},
   "outputs": [],
   "source": [
    "import random"
   ]
  },
  {
   "cell_type": "markdown",
   "metadata": {},
   "source": [
    "#### Constants"
   ]
  },
  {
   "cell_type": "code",
   "execution_count": 5,
   "metadata": {},
   "outputs": [],
   "source": [
    "N_MIN = 1\n",
    "N_MAX = pow(10,6)"
   ]
  },
  {
   "cell_type": "markdown",
   "metadata": {},
   "source": [
    "#### Requisite"
   ]
  },
  {
   "cell_type": "code",
   "execution_count": 7,
   "metadata": {},
   "outputs": [
    {
     "name": "stdout",
     "output_type": "stream",
     "text": [
      "N = 11\n"
     ]
    }
   ],
   "source": [
    "#N = random.randint(N_MIN, N_MAX + 1) # rand.int returns integers in the half open interval [low, high)\n",
    "N = 11\n",
    "print('N = ' + str(N))"
   ]
  },
  {
   "cell_type": "markdown",
   "metadata": {},
   "source": [
    "#### Code"
   ]
  },
  {
   "cell_type": "code",
   "execution_count": 10,
   "metadata": {},
   "outputs": [],
   "source": [
    "list(range(2, N + 1))\n",
    "p = 2\n",
    "\n"
   ]
  },
  {
   "cell_type": "markdown",
   "metadata": {},
   "source": [
    "#### References"
   ]
  },
  {
   "cell_type": "markdown",
   "metadata": {},
   "source": [
    "1. \"Project Euler #10: Summation of Primes\", HackerRank, Accessed 17 Feb 2021, <br>\n",
    "https://www.hackerrank.com/contests/projecteuler/challenges/euler010/problem.\n",
    "2. \"Random Sampling - NumPy v1.20 Manual\", NumPy, Accessed 17 Feb 2021, <br>\n",
    "https://numpy.org/doc/stable/reference/random/generated/numpy.random.randint.html.\n",
    "3. \"Sieve of Eratosthenes\", Brilliant, Accessed 17 Feb 2021, <br>\n",
    "https://brilliant.org/wiki/sieve-of-eratosthenes/."
   ]
  },
  {
   "cell_type": "code",
   "execution_count": null,
   "metadata": {},
   "outputs": [],
   "source": []
  }
 ],
 "metadata": {
  "kernelspec": {
   "display_name": "Python 3",
   "language": "python",
   "name": "python3"
  },
  "language_info": {
   "codemirror_mode": {
    "name": "ipython",
    "version": 3
   },
   "file_extension": ".py",
   "mimetype": "text/x-python",
   "name": "python",
   "nbconvert_exporter": "python",
   "pygments_lexer": "ipython3",
   "version": "3.7.3"
  }
 },
 "nbformat": 4,
 "nbformat_minor": 2
}
