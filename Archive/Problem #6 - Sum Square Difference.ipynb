{
 "cells": [
  {
   "cell_type": "markdown",
   "metadata": {},
   "source": [
    "<br>\n",
    "<center> <h2> Project Euler #6: Sum Square Difference </h2> </center>\n",
    "\n",
    "***\n",
    "#### Problem Statement\n",
    "The sum of the squares of the first ten natural numbers is, <b>1<sup>2</sup> + 2<sup>2</sup> + ... + 10<sup>2</sup> = 385</b>. The square of the sum of the first ten natural numbers is, <br><b>(1 + 2 + ... + 10)<sup>2</sup> = 55<sup>2</sup> = 3025</b>. Hence the absolute difference between the sum of the squares of the first ten natural numbers and the square of the sum is <b>3025 - 385 = 2640</b>. Find the absolute difference between the sum of the squares of the first __N__ natural numbers and the square of the sum.\n",
    "\n",
    "#### Constraints\n",
    "<b>1 $\\le$ N $\\le$ 10<sup>4</sup></b>"
   ]
  },
  {
   "cell_type": "markdown",
   "metadata": {},
   "source": [
    "#### Libraries"
   ]
  },
  {
   "cell_type": "code",
   "execution_count": 1,
   "metadata": {},
   "outputs": [],
   "source": [
    "import random"
   ]
  },
  {
   "cell_type": "markdown",
   "metadata": {},
   "source": [
    "#### Constants"
   ]
  },
  {
   "cell_type": "code",
   "execution_count": 2,
   "metadata": {},
   "outputs": [],
   "source": [
    "N_MIN = 1\n",
    "N_MAX = pow(10,4)"
   ]
  },
  {
   "cell_type": "markdown",
   "metadata": {},
   "source": [
    "#### Requisite"
   ]
  },
  {
   "cell_type": "code",
   "execution_count": 3,
   "metadata": {},
   "outputs": [
    {
     "name": "stdout",
     "output_type": "stream",
     "text": [
      "N = 7274\n"
     ]
    }
   ],
   "source": [
    "N = random.randint(N_MIN, N_MAX + 1) # rand.int returns integers in the half open interval [low, high)\n",
    "print('N = ' + str(N))"
   ]
  },
  {
   "cell_type": "markdown",
   "metadata": {},
   "source": [
    "#### Code"
   ]
  },
  {
   "cell_type": "code",
   "execution_count": 4,
   "metadata": {},
   "outputs": [
    {
     "name": "stdout",
     "output_type": "stream",
     "text": [
      "Sum of Squares = 128318179025\n",
      "Square of Sum = 700087941680625\n",
      "Absolute Difference = 699959623501600\n"
     ]
    }
   ],
   "source": [
    "sum_of_squares = int((N * (N + 1) * (2 * N + 1)) / 6)\n",
    "square_of_sum = int(((N * (N + 1) / 2) ** 2))\n",
    "abs_difference = abs(square_of_sum - sum_of_squares)\n",
    "\n",
    "print('Sum of Squares = ' + str(sum_of_squares))\n",
    "print('Square of Sum = ' + str(square_of_sum))\n",
    "print('Absolute Difference = ' + str(abs_difference))"
   ]
  },
  {
   "cell_type": "markdown",
   "metadata": {},
   "source": [
    "#### References"
   ]
  },
  {
   "cell_type": "markdown",
   "metadata": {},
   "source": [
    "1. \"Project Euler #6: Sum Square Difference\" HackerRank, Accessed 17 Feb 2021, <br>\n",
    "https://www.hackerrank.com/contests/projecteuler/challenges/euler006/problem.\n",
    "2. \"Random Sampling - NumPy v1.20 Manual\", NumPy, Accessed 17 Feb 2021, <br>\n",
    "https://numpy.org/doc/stable/reference/random/generated/numpy.random.randint.html.\n",
    "3. \"Sum of n, n², or n³\", Brilliant, Accessed 17 Feb 2021, <br>\n",
    "https://brilliant.org/wiki/sum-of-n-n2-or-n3/."
   ]
  }
 ],
 "metadata": {
  "kernelspec": {
   "display_name": "Python 3",
   "language": "python",
   "name": "python3"
  },
  "language_info": {
   "codemirror_mode": {
    "name": "ipython",
    "version": 3
   },
   "file_extension": ".py",
   "mimetype": "text/x-python",
   "name": "python",
   "nbconvert_exporter": "python",
   "pygments_lexer": "ipython3",
   "version": "3.7.3"
  }
 },
 "nbformat": 4,
 "nbformat_minor": 2
}
